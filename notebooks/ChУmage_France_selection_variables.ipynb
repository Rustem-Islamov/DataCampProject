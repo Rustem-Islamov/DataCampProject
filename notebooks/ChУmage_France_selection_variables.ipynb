{
 "cells": [
  {
   "cell_type": "code",
   "execution_count": 1,
   "metadata": {},
   "outputs": [],
   "source": [
    "import pandas as pd\n",
    "import numpy as np\n",
    "import matplotlib.pyplot as plt\n",
    "import seaborn as sns\n",
    "import os\n",
    "import sys\n",
    "import math\n",
    "import re"
   ]
  },
  {
   "cell_type": "code",
   "execution_count": 2,
   "metadata": {},
   "outputs": [
    {
     "name": "stderr",
     "output_type": "stream",
     "text": [
      "C:\\ProgramData\\Anaconda3\\lib\\site-packages\\IPython\\core\\interactiveshell.py:3071: DtypeWarning: Columns (0) have mixed types.Specify dtype option on import or set low_memory=False.\n",
      "  has_raised = await self.run_ast_nodes(code_ast.body, cell_name,\n"
     ]
    }
   ],
   "source": [
    "df_cho = pd.read_csv('base-cc-emploi-pop-active-2018.CSV',sep=';')\n",
    "df_presi = pd.read_csv('dataset_votes_presidentielles_debut_sociaux.csv')"
   ]
  },
  {
   "cell_type": "code",
   "execution_count": 3,
   "metadata": {},
   "outputs": [],
   "source": [
    "df_cho_lat = df_presi[['Code Insee','Latitude','Longitude','Dep']].drop_duplicates().merge(df_cho[['CODGEO',\n",
    "                                       'P18_ACT1564','P18_CHOM1564','P18_HACT1564','P18_FACT1564','P18_HCHOM1564',\n",
    "                                                             'P18_FCHOM1564','P18_HCHOM1524','P18_FCHOM1524','P18_ACT1524','P18_HACT1524','P18_FACT1524'\n",
    "                                                      ]],left_on='Code Insee',right_on='CODGEO')\n",
    "df_cho_lat['taux_chomage']=df_cho_lat['P18_CHOM1564']/df_cho_lat['P18_ACT1564']\n",
    "df_cho_lat['taux_chomage_masculin']=df_cho_lat['P18_HCHOM1564']/df_cho_lat['P18_HACT1564']\n",
    "df_cho_lat['taux_chomage_feminin']=df_cho_lat['P18_FCHOM1564']/df_cho_lat['P18_FACT1564']\n",
    "#df_cho_lat['taux_chomage_jeune']=df_cho_lat['P18_CHOM1524']/df_cho_lat['P18_ACT1524']\n",
    "df_cho_lat['taux_chomage_jeune_masculin']=df_cho_lat['P18_HCHOM1524']/df_cho_lat['P18_HACT1524']\n",
    "df_cho_lat['taux_chomage_jeune_feminin']=df_cho_lat['P18_FCHOM1524']/df_cho_lat['P18_FACT1524']\n"
   ]
  },
  {
   "cell_type": "code",
   "execution_count": 7,
   "metadata": {},
   "outputs": [
    {
     "data": {
      "text/html": [
       "<div>\n",
       "<style scoped>\n",
       "    .dataframe tbody tr th:only-of-type {\n",
       "        vertical-align: middle;\n",
       "    }\n",
       "\n",
       "    .dataframe tbody tr th {\n",
       "        vertical-align: top;\n",
       "    }\n",
       "\n",
       "    .dataframe thead th {\n",
       "        text-align: right;\n",
       "    }\n",
       "</style>\n",
       "<table border=\"1\" class=\"dataframe\">\n",
       "  <thead>\n",
       "    <tr style=\"text-align: right;\">\n",
       "      <th></th>\n",
       "      <th>P18_HCHOM1524</th>\n",
       "      <th>P18_HACT1524</th>\n",
       "    </tr>\n",
       "  </thead>\n",
       "  <tbody>\n",
       "    <tr>\n",
       "      <th>15</th>\n",
       "      <td>1.018116</td>\n",
       "      <td>7.126812</td>\n",
       "    </tr>\n",
       "    <tr>\n",
       "      <th>17</th>\n",
       "      <td>1.000000</td>\n",
       "      <td>3.000000</td>\n",
       "    </tr>\n",
       "    <tr>\n",
       "      <th>37</th>\n",
       "      <td>0.969697</td>\n",
       "      <td>2.909091</td>\n",
       "    </tr>\n",
       "    <tr>\n",
       "      <th>83</th>\n",
       "      <td>0.000000</td>\n",
       "      <td>3.943262</td>\n",
       "    </tr>\n",
       "    <tr>\n",
       "      <th>91</th>\n",
       "      <td>1.880000</td>\n",
       "      <td>1.880000</td>\n",
       "    </tr>\n",
       "    <tr>\n",
       "      <th>...</th>\n",
       "      <td>...</td>\n",
       "      <td>...</td>\n",
       "    </tr>\n",
       "    <tr>\n",
       "      <th>20219</th>\n",
       "      <td>0.000000</td>\n",
       "      <td>1.926606</td>\n",
       "    </tr>\n",
       "    <tr>\n",
       "      <th>20251</th>\n",
       "      <td>1.927869</td>\n",
       "      <td>6.704515</td>\n",
       "    </tr>\n",
       "    <tr>\n",
       "      <th>20317</th>\n",
       "      <td>9.985775</td>\n",
       "      <td>19.971550</td>\n",
       "    </tr>\n",
       "    <tr>\n",
       "      <th>21140</th>\n",
       "      <td>0.000000</td>\n",
       "      <td>3.000000</td>\n",
       "    </tr>\n",
       "    <tr>\n",
       "      <th>21232</th>\n",
       "      <td>1.077586</td>\n",
       "      <td>5.387931</td>\n",
       "    </tr>\n",
       "  </tbody>\n",
       "</table>\n",
       "<p>514 rows × 2 columns</p>\n",
       "</div>"
      ],
      "text/plain": [
       "       P18_HCHOM1524  P18_HACT1524\n",
       "15          1.018116      7.126812\n",
       "17          1.000000      3.000000\n",
       "37          0.969697      2.909091\n",
       "83          0.000000      3.943262\n",
       "91          1.880000      1.880000\n",
       "...              ...           ...\n",
       "20219       0.000000      1.926606\n",
       "20251       1.927869      6.704515\n",
       "20317       9.985775     19.971550\n",
       "21140       0.000000      3.000000\n",
       "21232       1.077586      5.387931\n",
       "\n",
       "[514 rows x 2 columns]"
      ]
     },
     "execution_count": 7,
     "metadata": {},
     "output_type": "execute_result"
    }
   ],
   "source": [
    "df_cho_lat[df_cho_lat['taux_chomage_jeune_feminin'].isnull()][['P18_HCHOM1524','P18_HACT1524']]"
   ]
  },
  {
   "cell_type": "code",
   "execution_count": null,
   "metadata": {},
   "outputs": [],
   "source": []
  }
 ],
 "metadata": {
  "kernelspec": {
   "display_name": "Python 3",
   "language": "python",
   "name": "python3"
  },
  "language_info": {
   "codemirror_mode": {
    "name": "ipython",
    "version": 3
   },
   "file_extension": ".py",
   "mimetype": "text/x-python",
   "name": "python",
   "nbconvert_exporter": "python",
   "pygments_lexer": "ipython3",
   "version": "3.8.3"
  }
 },
 "nbformat": 4,
 "nbformat_minor": 4
}
