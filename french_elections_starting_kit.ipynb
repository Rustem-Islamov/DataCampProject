{
 "cells": [
  {
   "attachments": {},
   "cell_type": "markdown",
   "metadata": {},
   "source": [
    "# RAMP on predicting 2022 French presidential elections\n",
    "\n",
    "## Introduction\n",
    "\n",
    "The different data sets used in this project are all freely accessible through either the French Government open data platform or INSEE website. To get more details on how to download it, check the README file. <br>\n",
    "The main dataset contains for each candidate, for each city and for each polling station the scores of each candidate at the first round of the 2022 French Presidential Elections. <br>\n",
    "Additionnaly to this data, we also collected the latest INSEE datasets on employement statistics and the income statistics, as well as 2017 elections results. Both INSEE datasets come with a documentation file : they can be found in the data/documentation folder or online (check read me for more details)"
   ]
  },
  {
   "attachments": {},
   "cell_type": "markdown",
   "metadata": {},
   "source": [
    "For practical reasons, the challenge focuses only on French Departments (mainland and overseas). Territories such as Mayotte or overseas polling stations are excluded for practical reasons (missing data, no financial data, etc...)."
   ]
  },
  {
   "attachments": {},
   "cell_type": "markdown",
   "metadata": {},
   "source": [
    "The goal is to predict the score of each candidate for each french city. The prediction quality is measured with the RMSE."
   ]
  },
  {
   "attachments": {},
   "cell_type": "markdown",
   "metadata": {},
   "source": [
    "Users are not restricted to the data provided with this challenge and we encourage looking for other potential datasets."
   ]
  },
  {
   "cell_type": "code",
   "execution_count": 1,
   "metadata": {},
   "outputs": [],
   "source": [
    "%matplotlib inline\n",
    "import os\n",
    "import importlib\n",
    "import numpy as np\n",
    "import pandas as pd\n",
    "import matplotlib.pyplot as plt\n",
    "import seaborn as sns\n",
    "%load_ext autoreload\n",
    "%autoreload 2"
   ]
  },
  {
   "attachments": {},
   "cell_type": "markdown",
   "metadata": {},
   "source": [
    "## Load the dataset using pandas\n",
    "\n",
    "The training and testing sets are located in the folder data. They can be loaded with pandas"
   ]
  },
  {
   "cell_type": "code",
   "execution_count": 17,
   "metadata": {},
   "outputs": [
    {
     "name": "stderr",
     "output_type": "stream",
     "text": [
      "c:\\Users\\32mor\\OneDrive\\Documents\\IPP M2\\Data_Camp\\DataCampProject\\problem.py:36: DtypeWarning: Columns (0,4,6) have mixed types. Specify dtype option on import or set low_memory=False.\n",
      "  \n"
     ]
    }
   ],
   "source": [
    "from problem import get_train_data\n",
    "\n",
    "data_train, labels_train = get_train_data()"
   ]
  },
  {
   "cell_type": "code",
   "execution_count": 19,
   "metadata": {},
   "outputs": [
    {
     "name": "stdout",
     "output_type": "stream",
     "text": [
      "<class 'pandas.core.frame.DataFrame'>\n",
      "Int64Index: 836376 entries, 227884 to 99937\n",
      "Data columns (total 10 columns):\n",
      " #   Column                         Non-Null Count   Dtype \n",
      "---  ------                         --------------   ----- \n",
      " 0   Code du département            836376 non-null  object\n",
      " 1   Libellé du département         836376 non-null  object\n",
      " 2   Code de la circonscription     836376 non-null  int64 \n",
      " 3   Libellé de la circonscription  836376 non-null  object\n",
      " 4   Code de la commune             836376 non-null  object\n",
      " 5   Libellé de la commune          836376 non-null  object\n",
      " 6   Code du b.vote                 836376 non-null  object\n",
      " 7   Inscrits                       836376 non-null  int64 \n",
      " 8   Votants                        836376 non-null  int64 \n",
      " 9   location                       791880 non-null  object\n",
      "dtypes: int64(3), object(7)\n",
      "memory usage: 70.2+ MB\n"
     ]
    }
   ],
   "source": [
    "data_train.info()"
   ]
  },
  {
   "attachments": {},
   "cell_type": "markdown",
   "metadata": {},
   "source": [
    "We can see some missing values for location. we should take a first look and see how big this polling stations are"
   ]
  },
  {
   "cell_type": "code",
   "execution_count": 28,
   "metadata": {},
   "outputs": [
    {
     "data": {
      "text/html": [
       "<div>\n",
       "<style scoped>\n",
       "    .dataframe tbody tr th:only-of-type {\n",
       "        vertical-align: middle;\n",
       "    }\n",
       "\n",
       "    .dataframe tbody tr th {\n",
       "        vertical-align: top;\n",
       "    }\n",
       "\n",
       "    .dataframe thead th {\n",
       "        text-align: right;\n",
       "    }\n",
       "</style>\n",
       "<table border=\"1\" class=\"dataframe\">\n",
       "  <thead>\n",
       "    <tr style=\"text-align: right;\">\n",
       "      <th></th>\n",
       "      <th>Inscrits</th>\n",
       "    </tr>\n",
       "  </thead>\n",
       "  <tbody>\n",
       "    <tr>\n",
       "      <th>mean</th>\n",
       "      <td>1478.0</td>\n",
       "    </tr>\n",
       "    <tr>\n",
       "      <th>sum</th>\n",
       "      <td>1334892.0</td>\n",
       "    </tr>\n",
       "  </tbody>\n",
       "</table>\n",
       "</div>"
      ],
      "text/plain": [
       "       Inscrits\n",
       "mean     1478.0\n",
       "sum   1334892.0"
      ]
     },
     "execution_count": 28,
     "metadata": {},
     "output_type": "execute_result"
    }
   ],
   "source": [
    "data_train[data_train['location'].isnull()].drop_duplicates(['Code de la commune']).agg({\"Inscrits\":[np.mean, np.sum]}).round(0)"
   ]
  },
  {
   "attachments": {},
   "cell_type": "markdown",
   "metadata": {},
   "source": [
    "Given the number of missing values, we should investigate a bit"
   ]
  },
  {
   "cell_type": "code",
   "execution_count": 33,
   "metadata": {},
   "outputs": [
    {
     "data": {
      "text/plain": [
       "Français établis hors de France    152\n",
       "Hérault                            149\n",
       "Saône-et-Loire                      53\n",
       "Creuse                              52\n",
       "Polynésie française                 48\n",
       "Haute-Corse                         39\n",
       "Nouvelle-Calédonie                  32\n",
       "Aude                                27\n",
       "Alpes-de-Haute-Provence             26\n",
       "Meuse                               23\n",
       "Name: Libellé du département, dtype: int64"
      ]
     },
     "execution_count": 33,
     "metadata": {},
     "output_type": "execute_result"
    }
   ],
   "source": [
    "data_train[data_train['location'].isnull()].drop_duplicates(['Code de la commune'])['Libellé du département'].value_counts().head(10)"
   ]
  },
  {
   "cell_type": "code",
   "execution_count": 30,
   "metadata": {},
   "outputs": [
    {
     "data": {
      "text/html": [
       "<div>\n",
       "<style scoped>\n",
       "    .dataframe tbody tr th:only-of-type {\n",
       "        vertical-align: middle;\n",
       "    }\n",
       "\n",
       "    .dataframe tbody tr th {\n",
       "        vertical-align: top;\n",
       "    }\n",
       "\n",
       "    .dataframe thead th {\n",
       "        text-align: right;\n",
       "    }\n",
       "</style>\n",
       "<table border=\"1\" class=\"dataframe\">\n",
       "  <thead>\n",
       "    <tr style=\"text-align: right;\">\n",
       "      <th></th>\n",
       "      <th>Code du département</th>\n",
       "      <th>Libellé du département</th>\n",
       "      <th>Code de la circonscription</th>\n",
       "      <th>Libellé de la circonscription</th>\n",
       "      <th>Code de la commune</th>\n",
       "      <th>Libellé de la commune</th>\n",
       "      <th>Code du b.vote</th>\n",
       "      <th>Inscrits</th>\n",
       "      <th>Votants</th>\n",
       "      <th>location</th>\n",
       "    </tr>\n",
       "  </thead>\n",
       "  <tbody>\n",
       "    <tr>\n",
       "      <th>227884</th>\n",
       "      <td>01</td>\n",
       "      <td>Ain</td>\n",
       "      <td>4</td>\n",
       "      <td>4ème circonscription</td>\n",
       "      <td>01001</td>\n",
       "      <td>L'Abergement-Clémenciat</td>\n",
       "      <td>1</td>\n",
       "      <td>645</td>\n",
       "      <td>537</td>\n",
       "      <td>46.14943, 4.924647</td>\n",
       "    </tr>\n",
       "    <tr>\n",
       "      <th>633784</th>\n",
       "      <td>01</td>\n",
       "      <td>Ain</td>\n",
       "      <td>4</td>\n",
       "      <td>4ème circonscription</td>\n",
       "      <td>01001</td>\n",
       "      <td>L'Abergement-Clémenciat</td>\n",
       "      <td>1</td>\n",
       "      <td>645</td>\n",
       "      <td>537</td>\n",
       "      <td>46.14943, 4.924647</td>\n",
       "    </tr>\n",
       "    <tr>\n",
       "      <th>259862</th>\n",
       "      <td>01</td>\n",
       "      <td>Ain</td>\n",
       "      <td>4</td>\n",
       "      <td>4ème circonscription</td>\n",
       "      <td>01001</td>\n",
       "      <td>L'Abergement-Clémenciat</td>\n",
       "      <td>1</td>\n",
       "      <td>645</td>\n",
       "      <td>537</td>\n",
       "      <td>46.14943, 4.924647</td>\n",
       "    </tr>\n",
       "    <tr>\n",
       "      <th>259861</th>\n",
       "      <td>01</td>\n",
       "      <td>Ain</td>\n",
       "      <td>4</td>\n",
       "      <td>4ème circonscription</td>\n",
       "      <td>01001</td>\n",
       "      <td>L'Abergement-Clémenciat</td>\n",
       "      <td>1</td>\n",
       "      <td>645</td>\n",
       "      <td>537</td>\n",
       "      <td>46.14943, 4.924647</td>\n",
       "    </tr>\n",
       "    <tr>\n",
       "      <th>548851</th>\n",
       "      <td>01</td>\n",
       "      <td>Ain</td>\n",
       "      <td>4</td>\n",
       "      <td>4ème circonscription</td>\n",
       "      <td>01001</td>\n",
       "      <td>L'Abergement-Clémenciat</td>\n",
       "      <td>1.0</td>\n",
       "      <td>645</td>\n",
       "      <td>537</td>\n",
       "      <td>46.14943, 4.924647</td>\n",
       "    </tr>\n",
       "    <tr>\n",
       "      <th>...</th>\n",
       "      <td>...</td>\n",
       "      <td>...</td>\n",
       "      <td>...</td>\n",
       "      <td>...</td>\n",
       "      <td>...</td>\n",
       "      <td>...</td>\n",
       "      <td>...</td>\n",
       "      <td>...</td>\n",
       "      <td>...</td>\n",
       "      <td>...</td>\n",
       "    </tr>\n",
       "    <tr>\n",
       "      <th>783606</th>\n",
       "      <td>97</td>\n",
       "      <td>Nouvelle-Calédonie</td>\n",
       "      <td>2</td>\n",
       "      <td>2ème circonscription</td>\n",
       "      <td>97833</td>\n",
       "      <td>Kouaoua</td>\n",
       "      <td>1</td>\n",
       "      <td>572</td>\n",
       "      <td>104</td>\n",
       "      <td>NaN</td>\n",
       "    </tr>\n",
       "    <tr>\n",
       "      <th>783605</th>\n",
       "      <td>97</td>\n",
       "      <td>Nouvelle-Calédonie</td>\n",
       "      <td>2</td>\n",
       "      <td>2ème circonscription</td>\n",
       "      <td>97833</td>\n",
       "      <td>Kouaoua</td>\n",
       "      <td>1</td>\n",
       "      <td>572</td>\n",
       "      <td>104</td>\n",
       "      <td>NaN</td>\n",
       "    </tr>\n",
       "    <tr>\n",
       "      <th>13748</th>\n",
       "      <td>97</td>\n",
       "      <td>Nouvelle-Calédonie</td>\n",
       "      <td>2</td>\n",
       "      <td>2ème circonscription</td>\n",
       "      <td>97833</td>\n",
       "      <td>Kouaoua</td>\n",
       "      <td>1</td>\n",
       "      <td>572</td>\n",
       "      <td>104</td>\n",
       "      <td>NaN</td>\n",
       "    </tr>\n",
       "    <tr>\n",
       "      <th>125161</th>\n",
       "      <td>97</td>\n",
       "      <td>Nouvelle-Calédonie</td>\n",
       "      <td>2</td>\n",
       "      <td>2ème circonscription</td>\n",
       "      <td>97833</td>\n",
       "      <td>Kouaoua</td>\n",
       "      <td>2</td>\n",
       "      <td>285</td>\n",
       "      <td>46</td>\n",
       "      <td>NaN</td>\n",
       "    </tr>\n",
       "    <tr>\n",
       "      <th>99937</th>\n",
       "      <td>97</td>\n",
       "      <td>Nouvelle-Calédonie</td>\n",
       "      <td>2</td>\n",
       "      <td>2ème circonscription</td>\n",
       "      <td>97833</td>\n",
       "      <td>Kouaoua</td>\n",
       "      <td>1.0</td>\n",
       "      <td>572</td>\n",
       "      <td>104</td>\n",
       "      <td>NaN</td>\n",
       "    </tr>\n",
       "  </tbody>\n",
       "</table>\n",
       "<p>836376 rows × 10 columns</p>\n",
       "</div>"
      ],
      "text/plain": [
       "       Code du département Libellé du département  Code de la circonscription  \\\n",
       "227884                  01                    Ain                           4   \n",
       "633784                  01                    Ain                           4   \n",
       "259862                  01                    Ain                           4   \n",
       "259861                  01                    Ain                           4   \n",
       "548851                  01                    Ain                           4   \n",
       "...                    ...                    ...                         ...   \n",
       "783606                  97     Nouvelle-Calédonie                           2   \n",
       "783605                  97     Nouvelle-Calédonie                           2   \n",
       "13748                   97     Nouvelle-Calédonie                           2   \n",
       "125161                  97     Nouvelle-Calédonie                           2   \n",
       "99937                   97     Nouvelle-Calédonie                           2   \n",
       "\n",
       "       Libellé de la circonscription Code de la commune  \\\n",
       "227884          4ème circonscription              01001   \n",
       "633784          4ème circonscription              01001   \n",
       "259862          4ème circonscription              01001   \n",
       "259861          4ème circonscription              01001   \n",
       "548851          4ème circonscription              01001   \n",
       "...                              ...                ...   \n",
       "783606          2ème circonscription              97833   \n",
       "783605          2ème circonscription              97833   \n",
       "13748           2ème circonscription              97833   \n",
       "125161          2ème circonscription              97833   \n",
       "99937           2ème circonscription              97833   \n",
       "\n",
       "          Libellé de la commune Code du b.vote  Inscrits  Votants  \\\n",
       "227884  L'Abergement-Clémenciat              1       645      537   \n",
       "633784  L'Abergement-Clémenciat              1       645      537   \n",
       "259862  L'Abergement-Clémenciat              1       645      537   \n",
       "259861  L'Abergement-Clémenciat              1       645      537   \n",
       "548851  L'Abergement-Clémenciat            1.0       645      537   \n",
       "...                         ...            ...       ...      ...   \n",
       "783606                  Kouaoua              1       572      104   \n",
       "783605                  Kouaoua              1       572      104   \n",
       "13748                   Kouaoua              1       572      104   \n",
       "125161                  Kouaoua              2       285       46   \n",
       "99937                   Kouaoua            1.0       572      104   \n",
       "\n",
       "                  location  \n",
       "227884  46.14943, 4.924647  \n",
       "633784  46.14943, 4.924647  \n",
       "259862  46.14943, 4.924647  \n",
       "259861  46.14943, 4.924647  \n",
       "548851  46.14943, 4.924647  \n",
       "...                    ...  \n",
       "783606                 NaN  \n",
       "783605                 NaN  \n",
       "13748                  NaN  \n",
       "125161                 NaN  \n",
       "99937                  NaN  \n",
       "\n",
       "[836376 rows x 10 columns]"
      ]
     },
     "execution_count": 30,
     "metadata": {},
     "output_type": "execute_result"
    }
   ],
   "source": [
    "data_train"
   ]
  },
  {
   "cell_type": "code",
   "execution_count": null,
   "metadata": {},
   "outputs": [],
   "source": []
  }
 ],
 "metadata": {
  "kernelspec": {
   "display_name": "base",
   "language": "python",
   "name": "python3"
  },
  "language_info": {
   "codemirror_mode": {
    "name": "ipython",
    "version": 3
   },
   "file_extension": ".py",
   "mimetype": "text/x-python",
   "name": "python",
   "nbconvert_exporter": "python",
   "pygments_lexer": "ipython3",
   "version": "3.8.13"
  },
  "orig_nbformat": 4,
  "vscode": {
   "interpreter": {
    "hash": "7ae746a38a9599f77271757951e3979675c1ad086f453ae5211f23a6ccb63a37"
   }
  }
 },
 "nbformat": 4,
 "nbformat_minor": 2
}