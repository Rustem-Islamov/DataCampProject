{
 "cells": [
  {
   "attachments": {},
   "cell_type": "markdown",
   "metadata": {},
   "source": [
    "# RAMP on predicting 2022 French presidential elections\n",
    "\n",
    "## Introduction\n",
    "\n",
    "The different data sets used in this project are all freely accessible through either the French Government open data platform or INSEE website. To get more details on how to download it, check the README file. <br>\n",
    "The main dataset contains for each candidate, for each city and for each polling station the scores of each candidate at the first round of the 2022 French Presidential Elections"
   ]
  },
  {
   "cell_type": "markdown",
   "metadata": {},
   "source": []
  }
 ],
 "metadata": {
  "kernelspec": {
   "display_name": "base",
   "language": "python",
   "name": "python3"
  },
  "language_info": {
   "name": "python",
   "version": "3.8.13"
  },
  "orig_nbformat": 4,
  "vscode": {
   "interpreter": {
    "hash": "7ae746a38a9599f77271757951e3979675c1ad086f453ae5211f23a6ccb63a37"
   }
  }
 },
 "nbformat": 4,
 "nbformat_minor": 2
}
